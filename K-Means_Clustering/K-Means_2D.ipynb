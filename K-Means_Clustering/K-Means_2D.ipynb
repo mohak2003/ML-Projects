{
  "metadata": {
    "kernelspec": {
      "language": "python",
      "display_name": "Python 3",
      "name": "python3"
    },
    "language_info": {
      "name": "python",
      "version": "3.7.12",
      "mimetype": "text/x-python",
      "codemirror_mode": {
        "name": "ipython",
        "version": 3
      },
      "pygments_lexer": "ipython3",
      "nbconvert_exporter": "python",
      "file_extension": ".py"
    },
    "colab": {
      "provenance": []
    }
  },
  "nbformat_minor": 0,
  "nbformat": 4,
  "cells": [
    {
      "cell_type": "code",
      "source": [
        "# This Python 3 environment comes with many helpful analytics libraries installed\n",
        "# It is defined by the kaggle/python Docker image: https://github.com/kaggle/docker-python\n",
        "# For example, here's several helpful packages to load\n",
        "\n",
        "import numpy as np # linear algebra\n",
        "import pandas as pd # data processing, CSV file I/O (e.g. pd.read_csv)\n",
        "import matplotlib.pyplot as plt\n",
        "\n",
        "# Input data files are available in the read-only \"../input/\" directory\n",
        "# For example, running this (by clicking run or pressing Shift+Enter) will list all files under the input directory\n",
        "\n",
        "import os\n",
        "for dirname, _, filenames in os.walk('/kaggle/input'):\n",
        "    for filename in filenames:\n",
        "        print(os.path.join(dirname, filename))\n",
        "\n",
        "# You can write up to 20GB to the current directory (/kaggle/working/) that gets preserved as output when you create a version using \"Save & Run All\" \n",
        "# You can also write temporary files to /kaggle/temp/, but they won't be saved outside of the current session"
      ],
      "metadata": {
        "_uuid": "8f2839f25d086af736a60e9eeb907d3b93b6e0e5",
        "_cell_guid": "b1076dfc-b9ad-4769-8c92-a6c4dae69d19",
        "execution": {
          "iopub.status.busy": "2022-12-12T21:14:36.161075Z",
          "iopub.execute_input": "2022-12-12T21:14:36.161579Z",
          "iopub.status.idle": "2022-12-12T21:14:36.185027Z",
          "shell.execute_reply.started": "2022-12-12T21:14:36.161472Z",
          "shell.execute_reply": "2022-12-12T21:14:36.183470Z"
        },
        "trusted": true,
        "id": "nNi2QdX_NrWv"
      },
      "execution_count": 416,
      "outputs": []
    },
    {
      "cell_type": "code",
      "source": [
        "#to find distance between 2 pts.\n",
        "\n",
        "def norm(u,v):\n",
        "    l = 0\n",
        "    for i in range(len(u)):\n",
        "        l += (u[i] - v[i])**2\n",
        "    return(np.sqrt(l))"
      ],
      "metadata": {
        "execution": {
          "iopub.status.busy": "2022-12-12T21:20:11.294379Z",
          "iopub.execute_input": "2022-12-12T21:20:11.295484Z",
          "iopub.status.idle": "2022-12-12T21:20:11.301522Z",
          "shell.execute_reply.started": "2022-12-12T21:20:11.295439Z",
          "shell.execute_reply": "2022-12-12T21:20:11.300211Z"
        },
        "trusted": true,
        "id": "NMkD3c8ONrW4"
      },
      "execution_count": 417,
      "outputs": []
    },
    {
      "cell_type": "code",
      "source": [
        "dataset = pd.read_csv(\"/content/data.csv\")\n",
        "dataset"
      ],
      "metadata": {
        "execution": {
          "iopub.status.busy": "2022-12-12T21:14:39.346422Z",
          "iopub.execute_input": "2022-12-12T21:14:39.346839Z",
          "iopub.status.idle": "2022-12-12T21:14:39.375357Z",
          "shell.execute_reply.started": "2022-12-12T21:14:39.346803Z",
          "shell.execute_reply": "2022-12-12T21:14:39.374111Z"
        },
        "trusted": true,
        "colab": {
          "base_uri": "https://localhost:8080/",
          "height": 424
        },
        "id": "b4kgPSzENrW0",
        "outputId": "f5f47a56-a934-430a-bdec-93f18be6d9dc"
      },
      "execution_count": 418,
      "outputs": [
        {
          "output_type": "execute_result",
          "data": {
            "text/plain": [
              "              x           y  color\n",
              "0    516.012706  393.014514      0\n",
              "1    436.211762  408.656585      0\n",
              "2    512.052601  372.022014      0\n",
              "3    489.140464  401.807159      0\n",
              "4    446.207986  338.516682      0\n",
              "..          ...         ...    ...\n",
              "331  638.916471  323.569096      1\n",
              "332  542.005901  347.527070      0\n",
              "333  611.964612  377.254978      0\n",
              "334  520.654168  455.996453      0\n",
              "335  594.479314  392.901455      0\n",
              "\n",
              "[336 rows x 3 columns]"
            ],
            "text/html": [
              "\n",
              "  <div id=\"df-c05e79dc-7175-44c3-9bd0-e61c3337d418\">\n",
              "    <div class=\"colab-df-container\">\n",
              "      <div>\n",
              "<style scoped>\n",
              "    .dataframe tbody tr th:only-of-type {\n",
              "        vertical-align: middle;\n",
              "    }\n",
              "\n",
              "    .dataframe tbody tr th {\n",
              "        vertical-align: top;\n",
              "    }\n",
              "\n",
              "    .dataframe thead th {\n",
              "        text-align: right;\n",
              "    }\n",
              "</style>\n",
              "<table border=\"1\" class=\"dataframe\">\n",
              "  <thead>\n",
              "    <tr style=\"text-align: right;\">\n",
              "      <th></th>\n",
              "      <th>x</th>\n",
              "      <th>y</th>\n",
              "      <th>color</th>\n",
              "    </tr>\n",
              "  </thead>\n",
              "  <tbody>\n",
              "    <tr>\n",
              "      <th>0</th>\n",
              "      <td>516.012706</td>\n",
              "      <td>393.014514</td>\n",
              "      <td>0</td>\n",
              "    </tr>\n",
              "    <tr>\n",
              "      <th>1</th>\n",
              "      <td>436.211762</td>\n",
              "      <td>408.656585</td>\n",
              "      <td>0</td>\n",
              "    </tr>\n",
              "    <tr>\n",
              "      <th>2</th>\n",
              "      <td>512.052601</td>\n",
              "      <td>372.022014</td>\n",
              "      <td>0</td>\n",
              "    </tr>\n",
              "    <tr>\n",
              "      <th>3</th>\n",
              "      <td>489.140464</td>\n",
              "      <td>401.807159</td>\n",
              "      <td>0</td>\n",
              "    </tr>\n",
              "    <tr>\n",
              "      <th>4</th>\n",
              "      <td>446.207986</td>\n",
              "      <td>338.516682</td>\n",
              "      <td>0</td>\n",
              "    </tr>\n",
              "    <tr>\n",
              "      <th>...</th>\n",
              "      <td>...</td>\n",
              "      <td>...</td>\n",
              "      <td>...</td>\n",
              "    </tr>\n",
              "    <tr>\n",
              "      <th>331</th>\n",
              "      <td>638.916471</td>\n",
              "      <td>323.569096</td>\n",
              "      <td>1</td>\n",
              "    </tr>\n",
              "    <tr>\n",
              "      <th>332</th>\n",
              "      <td>542.005901</td>\n",
              "      <td>347.527070</td>\n",
              "      <td>0</td>\n",
              "    </tr>\n",
              "    <tr>\n",
              "      <th>333</th>\n",
              "      <td>611.964612</td>\n",
              "      <td>377.254978</td>\n",
              "      <td>0</td>\n",
              "    </tr>\n",
              "    <tr>\n",
              "      <th>334</th>\n",
              "      <td>520.654168</td>\n",
              "      <td>455.996453</td>\n",
              "      <td>0</td>\n",
              "    </tr>\n",
              "    <tr>\n",
              "      <th>335</th>\n",
              "      <td>594.479314</td>\n",
              "      <td>392.901455</td>\n",
              "      <td>0</td>\n",
              "    </tr>\n",
              "  </tbody>\n",
              "</table>\n",
              "<p>336 rows × 3 columns</p>\n",
              "</div>\n",
              "      <button class=\"colab-df-convert\" onclick=\"convertToInteractive('df-c05e79dc-7175-44c3-9bd0-e61c3337d418')\"\n",
              "              title=\"Convert this dataframe to an interactive table.\"\n",
              "              style=\"display:none;\">\n",
              "        \n",
              "  <svg xmlns=\"http://www.w3.org/2000/svg\" height=\"24px\"viewBox=\"0 0 24 24\"\n",
              "       width=\"24px\">\n",
              "    <path d=\"M0 0h24v24H0V0z\" fill=\"none\"/>\n",
              "    <path d=\"M18.56 5.44l.94 2.06.94-2.06 2.06-.94-2.06-.94-.94-2.06-.94 2.06-2.06.94zm-11 1L8.5 8.5l.94-2.06 2.06-.94-2.06-.94L8.5 2.5l-.94 2.06-2.06.94zm10 10l.94 2.06.94-2.06 2.06-.94-2.06-.94-.94-2.06-.94 2.06-2.06.94z\"/><path d=\"M17.41 7.96l-1.37-1.37c-.4-.4-.92-.59-1.43-.59-.52 0-1.04.2-1.43.59L10.3 9.45l-7.72 7.72c-.78.78-.78 2.05 0 2.83L4 21.41c.39.39.9.59 1.41.59.51 0 1.02-.2 1.41-.59l7.78-7.78 2.81-2.81c.8-.78.8-2.07 0-2.86zM5.41 20L4 18.59l7.72-7.72 1.47 1.35L5.41 20z\"/>\n",
              "  </svg>\n",
              "      </button>\n",
              "      \n",
              "  <style>\n",
              "    .colab-df-container {\n",
              "      display:flex;\n",
              "      flex-wrap:wrap;\n",
              "      gap: 12px;\n",
              "    }\n",
              "\n",
              "    .colab-df-convert {\n",
              "      background-color: #E8F0FE;\n",
              "      border: none;\n",
              "      border-radius: 50%;\n",
              "      cursor: pointer;\n",
              "      display: none;\n",
              "      fill: #1967D2;\n",
              "      height: 32px;\n",
              "      padding: 0 0 0 0;\n",
              "      width: 32px;\n",
              "    }\n",
              "\n",
              "    .colab-df-convert:hover {\n",
              "      background-color: #E2EBFA;\n",
              "      box-shadow: 0px 1px 2px rgba(60, 64, 67, 0.3), 0px 1px 3px 1px rgba(60, 64, 67, 0.15);\n",
              "      fill: #174EA6;\n",
              "    }\n",
              "\n",
              "    [theme=dark] .colab-df-convert {\n",
              "      background-color: #3B4455;\n",
              "      fill: #D2E3FC;\n",
              "    }\n",
              "\n",
              "    [theme=dark] .colab-df-convert:hover {\n",
              "      background-color: #434B5C;\n",
              "      box-shadow: 0px 1px 3px 1px rgba(0, 0, 0, 0.15);\n",
              "      filter: drop-shadow(0px 1px 2px rgba(0, 0, 0, 0.3));\n",
              "      fill: #FFFFFF;\n",
              "    }\n",
              "  </style>\n",
              "\n",
              "      <script>\n",
              "        const buttonEl =\n",
              "          document.querySelector('#df-c05e79dc-7175-44c3-9bd0-e61c3337d418 button.colab-df-convert');\n",
              "        buttonEl.style.display =\n",
              "          google.colab.kernel.accessAllowed ? 'block' : 'none';\n",
              "\n",
              "        async function convertToInteractive(key) {\n",
              "          const element = document.querySelector('#df-c05e79dc-7175-44c3-9bd0-e61c3337d418');\n",
              "          const dataTable =\n",
              "            await google.colab.kernel.invokeFunction('convertToInteractive',\n",
              "                                                     [key], {});\n",
              "          if (!dataTable) return;\n",
              "\n",
              "          const docLinkHtml = 'Like what you see? Visit the ' +\n",
              "            '<a target=\"_blank\" href=https://colab.research.google.com/notebooks/data_table.ipynb>data table notebook</a>'\n",
              "            + ' to learn more about interactive tables.';\n",
              "          element.innerHTML = '';\n",
              "          dataTable['output_type'] = 'display_data';\n",
              "          await google.colab.output.renderOutput(dataTable, element);\n",
              "          const docLink = document.createElement('div');\n",
              "          docLink.innerHTML = docLinkHtml;\n",
              "          element.appendChild(docLink);\n",
              "        }\n",
              "      </script>\n",
              "    </div>\n",
              "  </div>\n",
              "  "
            ]
          },
          "metadata": {},
          "execution_count": 418
        }
      ]
    },
    {
      "cell_type": "code",
      "source": [
        "#checking for null values\n",
        "dataset.isna().sum()"
      ],
      "metadata": {
        "execution": {
          "iopub.status.busy": "2022-12-12T21:18:44.084991Z",
          "iopub.execute_input": "2022-12-12T21:18:44.085376Z",
          "iopub.status.idle": "2022-12-12T21:18:44.094890Z",
          "shell.execute_reply.started": "2022-12-12T21:18:44.085346Z",
          "shell.execute_reply": "2022-12-12T21:18:44.093712Z"
        },
        "trusted": true,
        "colab": {
          "base_uri": "https://localhost:8080/"
        },
        "id": "Dw475n4INrW2",
        "outputId": "66065120-addb-4fd1-eb6e-e73596396284"
      },
      "execution_count": 419,
      "outputs": [
        {
          "output_type": "execute_result",
          "data": {
            "text/plain": [
              "x        0\n",
              "y        0\n",
              "color    0\n",
              "dtype: int64"
            ]
          },
          "metadata": {},
          "execution_count": 419
        }
      ]
    },
    {
      "cell_type": "code",
      "source": [
        "#converted to np array, dropped the 3rd feature and viewing first 100 entries\n",
        "\n",
        "x = dataset.to_numpy()\n",
        "x = np.delete(x,2,axis = 1)\n",
        "x[:10][:]\n",
        "\n",
        "\n"
      ],
      "metadata": {
        "execution": {
          "iopub.status.busy": "2022-12-12T21:14:42.364592Z",
          "iopub.execute_input": "2022-12-12T21:14:42.365043Z",
          "iopub.status.idle": "2022-12-12T21:14:42.380748Z",
          "shell.execute_reply.started": "2022-12-12T21:14:42.365009Z",
          "shell.execute_reply": "2022-12-12T21:14:42.379575Z"
        },
        "trusted": true,
        "colab": {
          "base_uri": "https://localhost:8080/"
        },
        "id": "JG85PML-NrW2",
        "outputId": "ab4364ad-79c9-4f7a-9934-706af96ff1fe"
      },
      "execution_count": 420,
      "outputs": [
        {
          "output_type": "execute_result",
          "data": {
            "text/plain": [
              "array([[516.01270584, 393.01451385],\n",
              "       [436.21176221, 408.65658486],\n",
              "       [512.05260123, 372.02201357],\n",
              "       [489.14046445, 401.80715936],\n",
              "       [446.20798589, 338.51668221],\n",
              "       [516.41439428, 354.1946332 ],\n",
              "       [499.38635309, 414.43229606],\n",
              "       [489.31393714, 408.06659564],\n",
              "       [440.10939244, 394.82167659],\n",
              "       [444.11917081, 367.85030508]])"
            ]
          },
          "metadata": {},
          "execution_count": 420
        }
      ]
    },
    {
      "cell_type": "code",
      "source": [
        "#initialising k centroids\n",
        "k = np.random.randint(2,5)\n",
        "k"
      ],
      "metadata": {
        "execution": {
          "iopub.status.busy": "2022-12-12T21:20:03.944785Z",
          "iopub.execute_input": "2022-12-12T21:20:03.945164Z",
          "iopub.status.idle": "2022-12-12T21:20:03.954205Z",
          "shell.execute_reply.started": "2022-12-12T21:20:03.945133Z",
          "shell.execute_reply": "2022-12-12T21:20:03.952925Z"
        },
        "trusted": true,
        "colab": {
          "base_uri": "https://localhost:8080/"
        },
        "id": "3AVdsUscNrW3",
        "outputId": "1b5d3b14-b1a7-438d-c550-88e9a87017d7"
      },
      "execution_count": 442,
      "outputs": [
        {
          "output_type": "execute_result",
          "data": {
            "text/plain": [
              "4"
            ]
          },
          "metadata": {},
          "execution_count": 442
        }
      ]
    },
    {
      "cell_type": "code",
      "source": [
        "#placing k centroids at random places\n",
        "centroids = np.zeros([k,2])\n",
        "\n",
        "for i in range(k):\n",
        "  centroids[i,0] = np.random.uniform(400,700)\n",
        "  centroids[i][1] = np.random.uniform(200,500)\n",
        "centroids"
      ],
      "metadata": {
        "colab": {
          "base_uri": "https://localhost:8080/"
        },
        "id": "FX8wscO_2Erj",
        "outputId": "00b43de7-c17e-48d6-f949-49bc4a08ee6f"
      },
      "execution_count": 448,
      "outputs": [
        {
          "output_type": "execute_result",
          "data": {
            "text/plain": [
              "array([[581.8332746 , 354.03533898],\n",
              "       [439.53161622, 470.61524303],\n",
              "       [652.87252921, 489.95696127],\n",
              "       [675.98283405, 375.9005112 ]])"
            ]
          },
          "metadata": {},
          "execution_count": 448
        }
      ]
    },
    {
      "cell_type": "code",
      "source": [
        "#plotting the dataset and the cluster centroids\n",
        "def plot():\n",
        "  plt.scatter(x[:,0],x[:,1])\n",
        "  plt.scatter(centroids[:,0], centroids[:,1], color = \"magenta\")\n",
        "  plt.show\n",
        "\n",
        "plot()"
      ],
      "metadata": {
        "colab": {
          "base_uri": "https://localhost:8080/",
          "height": 266
        },
        "id": "gtimq_qZQ4ii",
        "outputId": "ab0ea291-6874-4e4f-e23f-fc2fa6437bef"
      },
      "execution_count": 449,
      "outputs": [
        {
          "output_type": "display_data",
          "data": {
            "text/plain": [
              "<Figure size 432x288 with 1 Axes>"
            ],
            "image/png": "[encoded data removed]"
          },
          "metadata": {
            "needs_background": "light"
          }
        }
      ]
    },
    {
      "cell_type": "code",
      "source": [
        "#assgning closest centroids to the pt.s\n",
        "\n",
        "def assign_centroid(x,centroids):\n",
        "  \n",
        "  global closest\n",
        "  closest = np.zeros([len(x),1])\n",
        "\n",
        "  for i in range(len(x)):\n",
        "        \n",
        "    dist = np.zeros([k,1])\n",
        "    for j in range(k):\n",
        "      dist[j] = norm(x[i], centroids[j])\n",
        "    closest[i] = np.argmin(dist)\n",
        "\n",
        "assign_centroid(x,centroids)\n",
        "closest,centroids"
      ],
      "metadata": {
        "execution": {
          "iopub.status.busy": "2022-12-12T21:20:15.934407Z",
          "iopub.execute_input": "2022-12-12T21:20:15.935129Z",
          "iopub.status.idle": "2022-12-12T21:20:15.989714Z",
          "shell.execute_reply.started": "2022-12-12T21:20:15.935093Z",
          "shell.execute_reply": "2022-12-12T21:20:15.988069Z"
        },
        "trusted": true,
        "id": "ud_AwmQhNrW5"
      },
      "execution_count": null,
      "outputs": []
    },
    {
      "cell_type": "code",
      "source": [
        "#moving centroids to mean position\n",
        "\n",
        "def move(centroids,x,closest):\n",
        "\n",
        "\n",
        "  for i in range(len(centroids)):\n",
        "    centroids[i] = 0\n",
        "    count = 0\n",
        "    for j in range(len(closest)):\n",
        "      if (closest[j] == i):\n",
        "        centroids[i] += x[j]\n",
        "        count += 1\n",
        "    if (count==0):\n",
        "      pass\n",
        "    else:\n",
        "      centroids[i] /= count\n",
        "\n",
        "move(centroids,x,closest)"
      ],
      "metadata": {
        "id": "RPA-xF90S3vk"
      },
      "execution_count": 469,
      "outputs": []
    },
    {
      "cell_type": "code",
      "source": [
        "plot()\n",
        "centroids\n",
        "\n"
      ],
      "metadata": {
        "colab": {
          "base_uri": "https://localhost:8080/",
          "height": 334
        },
        "id": "-gx5bbxNpHel",
        "outputId": "f6622bbd-a61c-4055-b063-0860e0c1c6b2"
      },
      "execution_count": 470,
      "outputs": [
        {
          "output_type": "execute_result",
          "data": {
            "text/plain": [
              "array([[624.32951055, 260.93147428],\n",
              "       [480.60429976, 385.44506433],\n",
              "       [632.30836663, 411.86995613],\n",
              "       [652.35690574, 358.1540625 ]])"
            ]
          },
          "metadata": {},
          "execution_count": 470
        },
        {
          "output_type": "display_data",
          "data": {
            "text/plain": [
              "<Figure size 432x288 with 1 Axes>"
            ],
            "image/png": "[encoded data removed]"
          },
          "metadata": {
            "needs_background": "light"
          }
        }
      ]
    },
    {
      "cell_type": "code",
      "source": [
        "# running algorithm for 5 iterations\n",
        "\n",
        "iterations = 5\n",
        "for i in range(iterations):\n",
        "\n",
        "  assign_centroid(x,centroids)\n",
        "  move(centroids,x,closest)\n",
        "\n",
        "plot()"
      ],
      "metadata": {
        "colab": {
          "base_uri": "https://localhost:8080/",
          "height": 265
        },
        "id": "stc-zDLbqczh",
        "outputId": "da157de9-9ce6-4deb-93b2-5d734e30299e"
      },
      "execution_count": 477,
      "outputs": [
        {
          "output_type": "display_data",
          "data": {
            "text/plain": [
              "<Figure size 432x288 with 1 Axes>"
            ],
            "image/png": "[encoded data removed]"
          },
          "metadata": {
            "needs_background": "light"
          }
        }
      ]
    }
  ]
}